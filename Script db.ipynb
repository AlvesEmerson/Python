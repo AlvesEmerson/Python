{
 "cells": [
  {
   "cell_type": "markdown",
   "id": "50f5be35",
   "metadata": {},
   "source": [
    "Criando o banco de dados"
   ]
  },
  {
   "cell_type": "code",
   "execution_count": 1,
   "id": "0088c3b1",
   "metadata": {
    "collapsed": true
   },
   "outputs": [
    {
     "name": "stdout",
     "output_type": "stream",
     "text": [
      "Requirement already satisfied: mysql-connector-python in c:\\users\\indi\\anaconda3\\lib\\site-packages (8.0.31)\n",
      "Requirement already satisfied: protobuf<=3.20.1,>=3.11.0 in c:\\users\\indi\\anaconda3\\lib\\site-packages (from mysql-connector-python) (3.20.1)\n",
      "Requirement already satisfied: pandas in c:\\users\\indi\\anaconda3\\lib\\site-packages (1.4.4)\n",
      "Requirement already satisfied: pytz>=2020.1 in c:\\users\\indi\\anaconda3\\lib\\site-packages (from pandas) (2022.1)\n",
      "Requirement already satisfied: numpy>=1.18.5 in c:\\users\\indi\\anaconda3\\lib\\site-packages (from pandas) (1.21.5)\n",
      "Requirement already satisfied: python-dateutil>=2.8.1 in c:\\users\\indi\\anaconda3\\lib\\site-packages (from pandas) (2.8.2)\n",
      "Requirement already satisfied: six>=1.5 in c:\\users\\indi\\anaconda3\\lib\\site-packages (from python-dateutil>=2.8.1->pandas) (1.16.0)\n"
     ]
    }
   ],
   "source": [
    "!pip install mysql-connector-python\n",
    "!pip install pandas"
   ]
  },
  {
   "cell_type": "code",
   "execution_count": 2,
   "id": "36feb642",
   "metadata": {},
   "outputs": [],
   "source": [
    "import mysql.connector\n",
    "from mysql.connector import Error\n",
    "import pandas as pd"
   ]
  },
  {
   "cell_type": "code",
   "execution_count": 3,
   "id": "ba399818",
   "metadata": {},
   "outputs": [
    {
     "name": "stdout",
     "output_type": "stream",
     "text": [
      "Banco de Dados MySQL conectado com sucesso!!!\n"
     ]
    }
   ],
   "source": [
    "def create_server_connection(host_name, user_name, user_password):\n",
    "    connection = None\n",
    "    try:\n",
    "        connection = mysql.connector.connect(\n",
    "            host=host_name,\n",
    "            user=user_name,\n",
    "            passwd=user_password\n",
    "        )\n",
    "        print(\"Banco de Dados MySQL conectado com sucesso!!!\")\n",
    "    except Error as err:\n",
    "        print(f\"Error: '{err}'\")\n",
    "\n",
    "    return connection\n",
    "\n",
    "connection = create_server_connection(\"localhost\", \"root\", '12345678')"
   ]
  },
  {
   "cell_type": "code",
   "execution_count": 5,
   "id": "c03ee485",
   "metadata": {},
   "outputs": [
    {
     "name": "stdout",
     "output_type": "stream",
     "text": [
      "Banco de Dados Criado com Sucesso!!!\n"
     ]
    }
   ],
   "source": [
    "def create_database(connection, query):\n",
    "    cursor = connection.cursor()\n",
    "    try:\n",
    "        cursor.execute(query)\n",
    "        print(\"Banco de Dados Criado com Sucesso!!!\")\n",
    "    except Error as err:\n",
    "        print(f\"Error: '{err}'\")\n",
    "\n",
    "create_database_query = \"CREATE DATABASE comercial\"\n",
    "create_database(connection, create_database_query)"
   ]
  },
  {
   "cell_type": "code",
   "execution_count": 6,
   "id": "d21a7814",
   "metadata": {},
   "outputs": [
    {
     "name": "stdout",
     "output_type": "stream",
     "text": [
      "Banco de Dados MySQL conectado com sucesso!!!\n"
     ]
    }
   ],
   "source": [
    "def create_db_connection(host_name, user_name, user_password, db_name):\n",
    "    connection = None\n",
    "    try:\n",
    "        connection = mysql.connector.connect(\n",
    "            host=host_name,\n",
    "            user=user_name,\n",
    "            passwd=user_password,\n",
    "            database=db_name\n",
    "        )\n",
    "        print(\"Banco de Dados MySQL conectado com sucesso!!!\")\n",
    "    except Error as err:\n",
    "        print(f\"Error: '{err}'\")\n",
    "\n",
    "    return connection\n",
    "\n",
    "connection = create_db_connection(\"localhost\", \"root\", '12345678', 'comercial')"
   ]
  },
  {
   "cell_type": "markdown",
   "id": "82bb44bc",
   "metadata": {},
   "source": [
    "Criando uma função para execução de consultas"
   ]
  },
  {
   "cell_type": "code",
   "execution_count": 7,
   "id": "d82e45e5",
   "metadata": {},
   "outputs": [
    {
     "name": "stdout",
     "output_type": "stream",
     "text": [
      "Banco de Dados MySQL conectado com sucesso!!!\n",
      "Consulta bem sucedida!!!\n",
      "Consulta bem sucedida!!!\n",
      "Consulta bem sucedida!!!\n"
     ]
    }
   ],
   "source": [
    "def execute_query(connection, query):\n",
    "    cursor = connection.cursor()\n",
    "    try:\n",
    "        cursor.execute(query)\n",
    "        connection.commit()\n",
    "        print(\"Consulta bem sucedida!!!\")\n",
    "    except Error as err:\n",
    "        print(f\"Error: '{err}'\")\n",
    "        \n",
    "tabela_produto = \"\"\"\n",
    "CREATE TABLE produto (\n",
    "  id_produto INT PRIMARY KEY NOT NULL,\n",
    "  nome VARCHAR(40) NOT NULL,\n",
    "  valor FLOAT NOT NULL,\n",
    "  categoria VARCHAR(20) NOT NULL\n",
    ");\n",
    " \"\"\"\n",
    "\n",
    "tabela_usuario = \"\"\"\n",
    "CREATE TABLE usuario (\n",
    "  id_usuario INT PRIMARY KEY,\n",
    "  nome VARCHAR(60) NOT NULL,\n",
    "  email VARCHAR(40) NOT NULL,\n",
    "  estado VARCHAR(2) check (estado in ('TO','SE','SP','SC','RR','RO','RS','RN','RJ','PI','PE','PR','PB','PA','MG','MS','MT','MA','GO','ES','DF','CE','BA','AM','AP','AL','AC'))\n",
    ");\n",
    " \"\"\"\n",
    "\n",
    "tabela_venda = \"\"\"\n",
    "CREATE TABLE venda (\n",
    "  id_venda INT PRIMARY KEY NOT NULL,\n",
    "  data_venda DATE NOT NULL,\n",
    "  status VARCHAR(12) check (status in ('Faturado', 'Cancelado')) NOT NULL,\n",
    "  id_usuario INT,\n",
    "  id_produto INT\n",
    ");\n",
    "\"\"\"\n",
    "\n",
    "connection = create_db_connection(\"localhost\", \"root\", '12345678', 'comercial')\n",
    "execute_query(connection, tabela_produto)\n",
    "execute_query(connection, tabela_usuario)\n",
    "execute_query(connection, tabela_venda)"
   ]
  },
  {
   "cell_type": "markdown",
   "id": "ed4d3727",
   "metadata": {},
   "source": [
    "Criando tabelas"
   ]
  },
  {
   "cell_type": "code",
   "execution_count": 8,
   "id": "55a03562",
   "metadata": {},
   "outputs": [
    {
     "name": "stdout",
     "output_type": "stream",
     "text": [
      "Banco de Dados MySQL conectado com sucesso!!!\n",
      "Consulta bem sucedida!!!\n",
      "Consulta bem sucedida!!!\n"
     ]
    }
   ],
   "source": [
    "altera_venda = \"\"\"\n",
    "ALTER TABLE venda\n",
    "ADD FOREIGN KEY(id_usuario)\n",
    "REFERENCES usuario(id_usuario)\n",
    "ON DELETE SET NULL;\n",
    "\"\"\"\n",
    "\n",
    "altera_venda2 = \"\"\"\n",
    "ALTER TABLE venda\n",
    "ADD FOREIGN KEY(id_produto)\n",
    "REFERENCES produto(id_produto)\n",
    "ON DELETE SET NULL;\n",
    "\"\"\"\n",
    "\n",
    "connection = create_db_connection(\"localhost\", \"root\", '12345678', 'comercial')\n",
    "execute_query(connection, altera_venda)\n",
    "execute_query(connection, altera_venda2)"
   ]
  },
  {
   "cell_type": "markdown",
   "id": "d22e2c93",
   "metadata": {},
   "source": [
    "Fim"
   ]
  }
 ],
 "metadata": {
  "kernelspec": {
   "display_name": "Python 3 (ipykernel)",
   "language": "python",
   "name": "python3"
  },
  "language_info": {
   "codemirror_mode": {
    "name": "ipython",
    "version": 3
   },
   "file_extension": ".py",
   "mimetype": "text/x-python",
   "name": "python",
   "nbconvert_exporter": "python",
   "pygments_lexer": "ipython3",
   "version": "3.9.13"
  }
 },
 "nbformat": 4,
 "nbformat_minor": 5
}
